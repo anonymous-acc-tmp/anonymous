{
 "cells": [
  {
   "cell_type": "code",
   "metadata": {
    "ExecuteTime": {
     "end_time": "2025-04-01T07:47:00.081067Z",
     "start_time": "2025-04-01T07:47:00.058372Z"
    }
   },
   "source": [
    "import torch\n",
    "import torch.nn as nn\n",
    "import torch.nn.functional as F\n",
    "import torch.optim as optim\n",
    "import numpy as np\n",
    "import matplotlib.pyplot as plt\n",
    "from typing import Optional, Union, Tuple\n",
    "import copy\n",
    "from scipy.stats import multivariate_normal\n",
    "from types import SimpleNamespace\n",
    "import math\n",
    "import os\n",
    "ROOT_DIRECTORY = os.path.abspath('')\n",
    "os.chdir(ROOT_DIRECTORY)\n",
    "\n",
    "\n",
    "device = torch.device(\"cuda\" if torch.cuda.is_available() else \"cpu\")\n",
    "print(f\"Using device: {device}\")\n",
    "\n",
    "from das.smc_utils import compute_ess_from_log_w, normalize_log_weights, resampling_function, normalize_weights, adaptive_tempering\n",
    " \n",
    "import torch\n",
    "import random\n",
    "import torch.backends.cudnn as cudnn\n",
    "\n",
    "torch.manual_seed(42)\n",
    "torch.cuda.manual_seed(42)\n",
    "torch.cuda.manual_seed_all(42)\n",
    "np.random.seed(42)\n",
    "cudnn.benchmark = False\n",
    "cudnn.deterministic = True\n",
    "random.seed(42)"
   ],
   "outputs": [
    {
     "name": "stdout",
     "output_type": "stream",
     "text": [
      "Using device: cuda\n"
     ]
    }
   ],
   "execution_count": 49
  },
  {
   "metadata": {
    "ExecuteTime": {
     "end_time": "2025-04-01T06:58:57.783712Z",
     "start_time": "2025-04-01T06:58:57.700430Z"
    }
   },
   "cell_type": "code",
   "source": [
    "\n",
    "rare_prob = 0.00001 \n",
    "\n",
    "\n",
    "def compute_reward(x, k=10):\n",
    "    if isinstance(x, torch.Tensor):\n",
    "        x_squared = torch.clamp((30.*x)**2, max=10000)\n",
    "        return -torch.sum(x_squared, dim=-1)\n",
    "    else:\n",
    "        x_squared = (30.*x)**2\n",
    "        return -np.sum(x_squared, axis=-1)\n",
    "    \n",
    "\n",
    "\n",
    "def linear_beta_schedule(timesteps, start=0.0001, end=0.02):\n",
    "    return torch.linspace(start, end, timesteps)\n",
    "\n",
    "class DDIMScheduler:\n",
    "    def __init__(self, num_train_timesteps=1000, beta_start=0.0001, beta_end=0.02, device='cpu'):\n",
    "        self.num_train_timesteps = num_train_timesteps\n",
    "        \n",
    "        self.betas = linear_beta_schedule(num_train_timesteps, beta_start, beta_end).to(device) # cosine_beta_schedule(num_train_timesteps).to(device) #\n",
    "        self.alphas = 1.0 - self.betas\n",
    "        self.alphas_cumprod = torch.cumprod(self.alphas, dim=0)\n",
    "        \n",
    "        self.final_alpha_cumprod = self.alphas_cumprod[0]\n",
    "        self.num_inference_steps = None\n",
    "        \n",
    "    def set_timesteps(self, num_inference_steps):\n",
    "        self.num_inference_steps = num_inference_steps\n",
    "        self.timesteps = torch.linspace(self.num_train_timesteps - 1, 0, num_inference_steps, dtype=torch.long)\n",
    "        \n",
    "    def _get_variance(self, timestep, prev_timestep):\n",
    "        alpha_prod_t = self.alphas_cumprod[timestep]\n",
    "        alpha_prod_t_prev = torch.where(\n",
    "            prev_timestep >= 0,\n",
    "            self.alphas_cumprod[prev_timestep],\n",
    "            self.final_alpha_cumprod\n",
    "        )\n",
    "        beta_prod_t = 1 - alpha_prod_t\n",
    "        beta_prod_t_prev = 1 - alpha_prod_t_prev\n",
    "        \n",
    "        variance = (beta_prod_t_prev / beta_prod_t) * (1 - alpha_prod_t / alpha_prod_t_prev)\n",
    "        return variance"
   ],
   "outputs": [],
   "execution_count": 42
  },
  {
   "metadata": {
    "ExecuteTime": {
     "end_time": "2025-04-01T06:58:57.807591Z",
     "start_time": "2025-04-01T06:58:57.786681Z"
    }
   },
   "cell_type": "code",
   "source": [
    "num_inference_steps = 1000\n",
    "num_train_timesteps = 1000\n",
    "scheduler = DDIMScheduler(num_train_timesteps=num_train_timesteps, device=device)"
   ],
   "outputs": [],
   "execution_count": 43
  },
  {
   "cell_type": "markdown",
   "metadata": {},
   "source": [
    "## Define Functions and Classes for Diffusion"
   ]
  },
  {
   "cell_type": "code",
   "metadata": {
    "ExecuteTime": {
     "end_time": "2025-04-01T06:58:57.866998Z",
     "start_time": "2025-04-01T06:58:57.812007Z"
    }
   },
   "source": [
    "\n",
    "import torch\n",
    "import matplotlib.pyplot as plt\n",
    "\n",
    "def linear_beta_schedule(timesteps, start=0.0001, end=0.02):\n",
    "    return torch.linspace(start, end, timesteps)\n",
    "\n",
    "class GaussianMixtureDenoisingModel(torch.nn.Module):\n",
    "    def __init__(self, num_steps=1000, epsilon=0.008, device='cuda'):\n",
    "        super().__init__()\n",
    "        self.device = torch.device(device)\n",
    "        self.num_steps = num_steps\n",
    "        #self.betas = self.cosine_variance_schedule(num_steps, epsilon).to(self.device)\n",
    "        self.betas = linear_beta_schedule(num_steps, start=0.0001, end=0.02).to(device)\n",
    "        self.alphas = (1.0 - self.betas).to(self.device)\n",
    "        self.alphas_cumprod = torch.cumprod(self.alphas, dim=0).to(self.device)\n",
    "        self.sqrt_alphas_cumprod = torch.sqrt(self.alphas_cumprod).to(self.device)\n",
    "        self.sqrt_one_minus_alphas_cumprod = torch.sqrt(1.0 - self.alphas_cumprod).to(self.device)\n",
    "\n",
    "        self.clusters = [\n",
    "            {\"center\": (0.0,   0.0),     \"std\": 0.03, \"prob\": rare_prob },\n",
    "            {\"center\": (-0.0,  -0.75),   \"std\": 0.03, \"prob\": (1. - rare_prob) / 4.},\n",
    "            {\"center\": (-0.75,  -0.0),   \"std\": 0.03, \"prob\": (1. - rare_prob) / 4.},\n",
    "            {\"center\": ( 0.75,  -0.0),   \"std\": 0.03, \"prob\": (1. - rare_prob) / 4.},\n",
    "            {\"center\": (-0.0,   0.75),   \"std\": 0.03, \"prob\": (1. - rare_prob) / 4.},\n",
    "        ]\n",
    "\n",
    "        for cluster in self.clusters:\n",
    "            cluster[\"center\"] = torch.tensor(cluster[\"center\"], dtype=torch.float32, device=device).unsqueeze(0)\n",
    "            cluster[\"std\"] = torch.tensor(cluster[\"std\"], dtype=torch.float32, device=device)\n",
    "            cluster[\"prob\"] = torch.tensor(cluster[\"prob\"], dtype=torch.float32, device=device)\n",
    "\n",
    "    def cosine_variance_schedule(self, num_steps, epsilon=0.008):\n",
    "        steps = torch.linspace(0, num_steps, num_steps + 1, dtype=torch.float32, device=self.device)\n",
    "        f_t = torch.cos(((steps / num_steps + epsilon) / (1.0 + epsilon)) * torch.pi * 0.5) ** 2\n",
    "        betas = torch.clamp(1.0 - f_t[1:] / f_t[:num_steps], 0.0, 0.999)\n",
    "        return betas\n",
    "\n",
    "    def compute_mog_params(self, t_index):\n",
    "        alpha_bar_t = torch.gather(self.alphas_cumprod, 0, t_index).view(-1, 1,\n",
    "                                                                         1)  # Ensure correct broadcasting for batch size\n",
    "        new_means = [c[\"center\"].expand(alpha_bar_t.shape[0], -1, -1) * torch.sqrt(alpha_bar_t) for c in self.clusters]\n",
    "        new_covs = [\n",
    "            (torch.eye(2, device=self.device) * c[\"std\"] ** 2).unsqueeze(0).expand(alpha_bar_t.shape[0], -1, -1) *\n",
    "            alpha_bar_t + (1 - alpha_bar_t) * torch.eye(2, device=self.device).unsqueeze(0).expand(alpha_bar_t.shape[0],\n",
    "                                                                                                   -1, -1)\n",
    "            for c in self.clusters]\n",
    "        return new_means, new_covs\n",
    "\n",
    "    def score_function_batch(self, X, t):\n",
    "        new_means, new_covs = self.compute_mog_params(t)\n",
    "        batch_size = X.shape[0]\n",
    "        component_scores = torch.zeros(len(self.clusters), batch_size, X.shape[1], device=self.device)\n",
    "        responsibilities = torch.zeros(len(self.clusters), batch_size, device=self.device)\n",
    "        density_sum = torch.zeros(batch_size, device=self.device)\n",
    "\n",
    "        for i in range(len(self.clusters)):\n",
    "            mean_i, cov_i = new_means[i].squeeze(1), new_covs[i]\n",
    "            inv_cov_i = torch.inverse(cov_i)\n",
    "            gauss_i = torch.distributions.MultivariateNormal(mean_i, cov_i)\n",
    "            density_i = gauss_i.log_prob(X).exp()\n",
    "            prob_i = self.clusters[i][\"prob\"].expand(density_i.shape)\n",
    "            density_sum += prob_i * density_i\n",
    "\n",
    "            score_i = -torch.einsum('bi,bij->bj', (X - mean_i), inv_cov_i)\n",
    "            #score_i = -torch.matmul((X - mean_i), inv_cov_i.transpose(-2, -1))\n",
    "            component_scores[i] = score_i\n",
    "            responsibilities[i] = prob_i * density_i\n",
    "\n",
    "        responsibilities /= (density_sum.unsqueeze(0) + 1e-8)  # Adjusted broadcasting\n",
    "        score = torch.sum(responsibilities[:, :, None] * component_scores, dim=0)\n",
    "        return score\n",
    "\n",
    "    def forward(self, x_t, t):\n",
    "        t = t.to(self.device).view(-1)  # Ensure t has batch dimension\n",
    "        t = (t * self.num_steps).type(torch.int64)\n",
    "        \n",
    "        sqrt_one_minus_alpha_cumprod_t = torch.gather(self.sqrt_one_minus_alphas_cumprod, 0, t).view(-1, 1)\n",
    "        pred_noise = -self.score_function_batch(x_t, t) * sqrt_one_minus_alpha_cumprod_t\n",
    "        return pred_noise\n",
    "\n",
    "\n",
    "\n",
    "gaussian_score_model = GaussianMixtureDenoisingModel(num_steps=1000, epsilon=0.008, device='cuda')"
   ],
   "outputs": [],
   "execution_count": 44
  },
  {
   "metadata": {
    "ExecuteTime": {
     "end_time": "2025-04-01T06:59:26.540773Z",
     "start_time": "2025-04-01T06:58:57.869389Z"
    }
   },
   "cell_type": "code",
   "source": [
    "\n",
    "\n",
    "def issgm(model, scheduler, n_samples, device, num_inference_steps=100,\n",
    "                  eta=1.0, calib_phase=0.0, epsilon=1e-4, domain_min=-1., domain_max=1.):\n",
    "    \"\"\"\n",
    "    Importance Sampling via Score-based Generative Models\n",
    "    \"\"\"\n",
    "    \n",
    "    latents = torch.randn((n_samples, 2), device=device)\n",
    "\n",
    "    # Setup scheduler\n",
    "    scheduler.set_timesteps(num_inference_steps)\n",
    "    timesteps = scheduler.timesteps\n",
    "    #print(\"timesteps:\", timesteps)\n",
    "    # Track rewards for analysis\n",
    "    rewards_trace = []\n",
    "\n",
    "    for i, t in enumerate(timesteps):\n",
    "        prev_timestep = t - scheduler.num_train_timesteps // num_inference_steps\n",
    "        # Compute alpha_prod_t and alpha_prod_t_prev\n",
    "        alpha_prod_t = scheduler.alphas_cumprod[t].to(device)\n",
    "        alpha_prod_t_prev = torch.where(\n",
    "            prev_timestep >= 0,\n",
    "            scheduler.alphas_cumprod[prev_timestep],\n",
    "            scheduler.final_alpha_cumprod\n",
    "        )\n",
    "\n",
    "        # Get alpha_t (single step alpha, not cumulative)\n",
    "        alpha_t = scheduler.alphas[t].to(device)\n",
    "\n",
    "        # Compute variance for standard diffusion step\n",
    "        variance = eta ** 2 * (1 - alpha_prod_t_prev) / (1 - alpha_prod_t) * (1 - alpha_prod_t / alpha_prod_t_prev)\n",
    "        std_dev_t = variance.sqrt()  # torch.sqrt((1.0 - alpha_t) * (1. - alpha_prod_t_prev) / (1. - alpha_prod_t))\n",
    "\n",
    "        # Get timestep input for model\n",
    "        t_input = torch.full((latents.shape[0],), t.item() / scheduler.num_train_timesteps, device=device,\n",
    "                             dtype=torch.float32)\n",
    "\n",
    "        # Save original latents before any modifications\n",
    "        original_latents = latents.detach().clone().requires_grad_(True)\n",
    "\n",
    "        # Step 1: Get noise prediction from model (equivalent to epsilon in the alternative code)\n",
    "        noise_pred = model(original_latents, t_input)\n",
    "\n",
    "        # Step 2: Calculate the predicted original sample using noise prediction\n",
    "        pred_original_sample = (original_latents - (1 - alpha_prod_t).sqrt() * noise_pred) / alpha_prod_t.sqrt()\n",
    "\n",
    "        # Step 3: Compute reward/likelihood for predicted sample\n",
    "        pred_original_sample.requires_grad_(True)\n",
    "        rewards = compute_reward(pred_original_sample)\n",
    "        rewards_trace.append(rewards.detach().cpu())\n",
    "\n",
    "        # Step 4: Calculate gradient of log-likelihood w.r.t. pred_original_sample\n",
    "        # Using log(reward) similar to alternative implementation\n",
    "        #pre_log_loss = torch.exp(rewards)  # Similar to alternative implementation's loss function\n",
    "\n",
    "        grad_log_l_x0 = torch.autograd.grad(\n",
    "            outputs=rewards.sum(),\n",
    "            inputs=pred_original_sample,\n",
    "            create_graph=True\n",
    "        )[0]\n",
    "\n",
    "        # Scale gradient appropriately\n",
    "        grad_log_l_x0 = torch.nan_to_num(grad_log_l_x0)\n",
    "\n",
    "        # Step 5: Compute the score function for original latents\n",
    "        # score = -noise_pred / sqrt(1 - alpha_prod_t)\n",
    "        score = -noise_pred / (1 - alpha_prod_t).sqrt()\n",
    "\n",
    "        # Step 6: Compute perturbed latents for Hessian approximation\n",
    "        perturbed_latents = original_latents + epsilon * grad_log_l_x0\n",
    "        perturbed_noise_pred = model(perturbed_latents, t_input)\n",
    "\n",
    "        # Compute score at perturbed point\n",
    "        perturbed_score = -perturbed_noise_pred / (1 - alpha_prod_t).sqrt()\n",
    "\n",
    "        # Step 7: Approximate Hessian-vector product using score difference\n",
    "        hessian_vector_approx = (perturbed_score - score) / epsilon\n",
    "\n",
    "        # Step 8: Apply scaling factor for second term - matches alternative implementation\n",
    "        #total_coefficient = (1.0 - alpha_t) / (alpha_t.sqrt() * alpha_prod_t.sqrt())\n",
    "        total_coefficient = ((1.0 - alpha_prod_t) / alpha_t.sqrt() - (1 - alpha_prod_t_prev - std_dev_t ** 2).sqrt() * (\n",
    "                    1 - alpha_prod_t).sqrt()) * (1.0 / alpha_prod_t.sqrt())\n",
    "\n",
    "        second_term = total_coefficient * (grad_log_l_x0 + (1.0 - alpha_prod_t) * hessian_vector_approx)\n",
    "\n",
    "        # Detach all computation graph tensors\n",
    "        second_term = second_term.detach()\n",
    "\n",
    "        # Step 9: Sample from standard diffusion process\n",
    "        pred_sample_direction = (1 - alpha_prod_t_prev - std_dev_t ** 2).sqrt() * noise_pred\n",
    "        prev_sample_mean = alpha_prod_t_prev.sqrt() * pred_original_sample.detach() + pred_sample_direction\n",
    "        latents = prev_sample_mean + std_dev_t * torch.randn_like(noise_pred)\n",
    "\n",
    "        # Step 10: Apply the adjustment term directly to latents (like in alternative implementation)\n",
    "        # Only apply after a few steps (similar to i >= 3 condition in alternative)\n",
    "        latents = (latents + second_term) if i/num_inference_steps > calib_phase else latents\n",
    "        latents = torch.clamp(latents, domain_min, domain_max)\n",
    "\n",
    "    # Compute final rewards\n",
    "    final_rewards = compute_reward(latents)\n",
    "\n",
    "    # Convert rewards trace to tensor\n",
    "    rewards_trace = torch.stack(rewards_trace, dim=1) if rewards_trace else torch.tensor([])\n",
    "\n",
    "    return latents.detach(), rewards_trace, final_rewards\n",
    "\n",
    "\n",
    "# Run SBIS sampling\n",
    "issgm_samples = issgm(\n",
    "    gaussian_score_model,\n",
    "    scheduler,\n",
    "    n_samples=100000,\n",
    "    device=device,\n",
    "    num_inference_steps=num_inference_steps,\n",
    "    eta=1.0,\n",
    "    epsilon=1e-4\n",
    ")[0]  # Get only the latents, ignore rewards_trace and final_rewards\n",
    "\n",
    "# Compute reward for SBIS samples\n",
    "issgm_reward = compute_reward(issgm_samples).mean().item()\n",
    "within_box = ((issgm_samples > -0.25) & (issgm_samples < 0.25)).all(dim=1)\n",
    "issgm_reward = within_box.sum().item()\n",
    "\n",
    "\n",
    "# Convert to numpy for further processing or visualization\n",
    "issgm_samples = issgm_samples.cpu().numpy()"
   ],
   "outputs": [],
   "execution_count": 45
  },
  {
   "metadata": {
    "ExecuteTime": {
     "end_time": "2025-04-01T06:59:55.213168Z",
     "start_time": "2025-04-01T06:59:26.542277Z"
    }
   },
   "cell_type": "code",
   "source": [
    "# Run SBIS sampling\n",
    "base_samples = issgm(\n",
    "    gaussian_score_model,\n",
    "    scheduler,\n",
    "    n_samples=100000,\n",
    "    device=device,\n",
    "    num_inference_steps=num_inference_steps,\n",
    "    eta=1.0,\n",
    "    calib_phase=1.0,\n",
    "    epsilon=1e-4\n",
    ")[0]  # Get only the latents, ignore rewards_trace and final_rewards\n",
    "\n",
    "# Compute reward for SBIS samples\n",
    "base_reward = compute_reward(base_samples).mean().item()\n",
    "within_box = ((base_samples > -0.25) & (base_samples < 0.25)).all(dim=1)\n",
    "base_reward = within_box.sum().item()\n",
    "\n",
    "# Convert to numpy for further processing or visualization\n",
    "base_samples = base_samples.cpu().numpy()"
   ],
   "outputs": [],
   "execution_count": 46
  },
  {
   "cell_type": "markdown",
   "metadata": {},
   "source": [
    "# Visualize Samples and Rewards"
   ]
  },
  {
   "metadata": {
    "ExecuteTime": {
     "end_time": "2025-04-01T06:59:55.216603Z",
     "start_time": "2025-04-01T06:59:55.214590Z"
    }
   },
   "cell_type": "code",
   "source": "",
   "outputs": [],
   "execution_count": 46
  },
  {
   "metadata": {
    "ExecuteTime": {
     "end_time": "2025-04-01T06:59:55.219496Z",
     "start_time": "2025-04-01T06:59:55.217688Z"
    }
   },
   "cell_type": "code",
   "source": "",
   "outputs": [],
   "execution_count": 46
  },
  {
   "cell_type": "code",
   "metadata": {
    "ExecuteTime": {
     "end_time": "2025-04-01T06:59:56.739681Z",
     "start_time": "2025-04-01T06:59:55.221557Z"
    }
   },
   "source": [
    "# Plot results\n",
    "plt.figure(figsize=(35, 4))\n",
    "\n",
    "# Set common axis limits\n",
    "x_min, x_max = -1, 1\n",
    "y_min, y_max = -1, 1\n",
    "\n",
    "\n",
    "plt.subplot(1, 2, 1)\n",
    "plt.scatter(base_samples[:, 0], base_samples[:, 1], alpha=0.5, s=1)\n",
    "plt.title(f'Base Distribution | reward: {base_reward:.2f}')\n",
    "plt.xlabel('X')\n",
    "plt.ylabel('Y')\n",
    "plt.xlim(x_min, x_max)\n",
    "plt.ylim(y_min, y_max)\n",
    "\n",
    "# Add the new SBIS subplot\n",
    "plt.subplot(1, 2, 2)\n",
    "plt.scatter(issgm_samples[:, 0], issgm_samples[:, 1], alpha=0.5, s=1)\n",
    "plt.title(f'IS-SGM (Ours) | reward: {issgm_reward:.2f}')\n",
    "plt.xlabel('X')\n",
    "plt.ylabel('Y')\n",
    "plt.xlim(x_min, x_max)\n",
    "plt.ylim(y_min, y_max)\n",
    "\n",
    "plt.tight_layout()\n",
    "\n",
    "\n",
    "# Save the figure\n",
    "plt.savefig('gaussian_mixture_1.png', dpi=300, bbox_inches='tight')\n",
    "\n",
    "plt.show()\n",
    "plt.close()\n",
    "\n",
    "print(\"Figure saved as 'gaussian_mixture_1.png'\")"
   ],
   "outputs": [
    {
     "data": {
      "text/plain": [
       "<Figure size 3500x400 with 2 Axes>"
      ],
      "image/png": "[encoded data removed]"
     },
     "metadata": {},
     "output_type": "display_data"
    },
    {
     "name": "stdout",
     "output_type": "stream",
     "text": [
      "Figure saved as 'gaussian_mixture_1.png'\n"
     ]
    }
   ],
   "execution_count": 47
  }
 ],
 "metadata": {
  "kernelspec": {
   "display_name": "ddpo_alignprop",
   "language": "python",
   "name": "python3"
  },
  "language_info": {
   "codemirror_mode": {
    "name": "ipython",
    "version": 3
   },
   "file_extension": ".py",
   "mimetype": "text/x-python",
   "name": "python",
   "nbconvert_exporter": "python",
   "pygments_lexer": "ipython3",
   "version": "3.10.14"
  }
 },
 "nbformat": 4,
 "nbformat_minor": 2
}
